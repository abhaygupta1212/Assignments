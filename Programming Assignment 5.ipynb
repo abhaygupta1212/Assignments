{
 "cells": [
  {
   "cell_type": "raw",
   "id": "cf4471ce",
   "metadata": {},
   "source": [
    "1. Write a Python Program to Find LCM?"
   ]
  },
  {
   "cell_type": "raw",
   "id": "a81e14fb",
   "metadata": {},
   "source": [
    "LCM:The LCM of 4 and 6 is 12, as it is the smallest number that is a multiple of both 4 and 6. In other words, 12 is the smallest number that can be divided by both 4 and 6 without leaving a remainder."
   ]
  },
  {
   "cell_type": "code",
   "execution_count": 1,
   "id": "0355d364",
   "metadata": {},
   "outputs": [
    {
     "name": "stdout",
     "output_type": "stream",
     "text": [
      "Enter a Number: 3\n",
      "Enter another Number: 3\n",
      "lcm:  3\n"
     ]
    }
   ],
   "source": [
    "a = int(input(\"Enter a Number: \"))\n",
    "b = int(input(\"Enter another Number: \"))\n",
    "l = max(a, b)\n",
    "while True:\n",
    "    if l % a == 0 and l % b == 0:\n",
    "        lcm = l\n",
    "        break\n",
    "    l += 1\n",
    "print(\"lcm: \", l)"
   ]
  },
  {
   "cell_type": "raw",
   "id": "838be649",
   "metadata": {},
   "source": [
    "Write a Python Program to Find HCF?"
   ]
  },
  {
   "cell_type": "code",
   "execution_count": 2,
   "id": "bbb19d75",
   "metadata": {},
   "outputs": [
    {
     "name": "stdout",
     "output_type": "stream",
     "text": [
      "Enter a Number: 3\n",
      "Enter another Number: 3\n",
      "hcm:  3\n"
     ]
    }
   ],
   "source": [
    "a = int(input(\"Enter a Number: \"))\n",
    "b = int(input(\"Enter another Number: \"))\n",
    "l = min(a, b)\n",
    "while True:\n",
    "    if a % l == 0 and b % l == 0:\n",
    "        hcf = l\n",
    "        break\n",
    "    l -= 1\n",
    "print(\"hcm: \", l)"
   ]
  },
  {
   "cell_type": "code",
   "execution_count": 3,
   "id": "b9d06475",
   "metadata": {},
   "outputs": [
    {
     "data": {
      "text/plain": [
       "'0b10'"
      ]
     },
     "execution_count": 3,
     "metadata": {},
     "output_type": "execute_result"
    }
   ],
   "source": [
    "bin(2)"
   ]
  },
  {
   "cell_type": "code",
   "execution_count": 4,
   "id": "58ec54e6",
   "metadata": {},
   "outputs": [
    {
     "data": {
      "text/plain": [
       "'0o2'"
      ]
     },
     "execution_count": 4,
     "metadata": {},
     "output_type": "execute_result"
    }
   ],
   "source": [
    "oct(2)"
   ]
  },
  {
   "attachments": {},
   "cell_type": "raw",
   "id": "232f72ac",
   "metadata": {},
   "source": [
    "Write a Python Program to Convert Decimal to Binary, Octal and Hexadecimal?"
   ]
  },
  {
   "cell_type": "code",
   "execution_count": 5,
   "id": "2c70e12b",
   "metadata": {},
   "outputs": [
    {
     "name": "stdout",
     "output_type": "stream",
     "text": [
      "Enter the Number: 3\n",
      "Binary:  0b11\n",
      "Octal:  0o3\n",
      "Hexadecimal:  0x3\n"
     ]
    }
   ],
   "source": [
    "num  = int(input(\"Enter the Number: \"))\n",
    "print(\"Binary: \", bin(num))\n",
    "print(\"Octal: \", oct(num))\n",
    "print(\"Hexadecimal: \", hex(num))"
   ]
  },
  {
   "cell_type": "raw",
   "id": "66878b71",
   "metadata": {},
   "source": [
    "Write a Python Program To Find ASCII value of a character?"
   ]
  },
  {
   "cell_type": "code",
   "execution_count": 6,
   "id": "acfe0002",
   "metadata": {},
   "outputs": [
    {
     "name": "stdout",
     "output_type": "stream",
     "text": [
      "Enter the Character: 3\n",
      "The Ascii Code is: 51\n"
     ]
    }
   ],
   "source": [
    "c = input(\"Enter the Character: \")\n",
    "print(\"The Ascii Code is:\", ord(c))"
   ]
  },
  {
   "cell_type": "raw",
   "id": "8eae57da",
   "metadata": {},
   "source": [
    "Write a Python Program to Make a Simple Calculator with 4 basic mathematical operations?"
   ]
  },
  {
   "cell_type": "code",
   "execution_count": null,
   "id": "e8f0460c",
   "metadata": {},
   "outputs": [],
   "source": [
    "flag = \"y\"\n",
    "a = float(input(\"Enter the number\"))\n",
    "while flag == \"y\":\n",
    "    operation = input(\"\"\"\n",
    "    Select one of the Operation\n",
    "    Addition (+)\n",
    "    Subtraction (-)\n",
    "    Multiplication (x)\n",
    "    Division (/)\n",
    "    \"\"\")\n",
    "    b = float(input(\"Enter the next number\"))\n",
    "    if operation == \"+\":\n",
    "        a = a + b\n",
    "    elif operation == \"-\":\n",
    "        a = a - b\n",
    "    elif operation == \"x\":\n",
    "        a = a * b\n",
    "    elif opeartion == \"/\":\n",
    "        a = a/b\n",
    "    \n",
    "    print(\"Answer:\", a)\n",
    "    \n",
    "    flag = input(\"Do you want to continue? (y/n)\")\n",
    "    "
   ]
  },
  {
   "cell_type": "code",
   "execution_count": null,
   "id": "6c16f8a0",
   "metadata": {},
   "outputs": [],
   "source": []
  }
 ],
 "metadata": {
  "kernelspec": {
   "display_name": "Python 3 (ipykernel)",
   "language": "python",
   "name": "python3"
  },
  "language_info": {
   "codemirror_mode": {
    "name": "ipython",
    "version": 3
   },
   "file_extension": ".py",
   "mimetype": "text/x-python",
   "name": "python",
   "nbconvert_exporter": "python",
   "pygments_lexer": "ipython3",
   "version": "3.9.13"
  }
 },
 "nbformat": 4,
 "nbformat_minor": 5
}

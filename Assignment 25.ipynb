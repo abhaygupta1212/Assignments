{
 "cells": [
  {
   "cell_type": "markdown",
   "id": "f4bf8e32",
   "metadata": {},
   "source": [
    "# Assignment 25"
   ]
  },
  {
   "cell_type": "markdown",
   "id": "3069717a",
   "metadata": {},
   "source": [
    "What is the difference between enclosing a list comprehension in square brackets and\n",
    "parentheses?"
   ]
  },
  {
   "cell_type": "raw",
   "id": "9b522012",
   "metadata": {},
   "source": [
    "When a list comprehension is eclosed in square brackets it returns a list. But when we enclose list comprehension in paranthesis then it results into a generator."
   ]
  },
  {
   "cell_type": "code",
   "execution_count": 1,
   "id": "a94b2e36",
   "metadata": {},
   "outputs": [],
   "source": [
    "l1 = [a*2 for a in range(10)]"
   ]
  },
  {
   "cell_type": "code",
   "execution_count": 2,
   "id": "3e3c41bd",
   "metadata": {},
   "outputs": [
    {
     "data": {
      "text/plain": [
       "[0, 2, 4, 6, 8, 10, 12, 14, 16, 18]"
      ]
     },
     "execution_count": 2,
     "metadata": {},
     "output_type": "execute_result"
    }
   ],
   "source": [
    "l1"
   ]
  },
  {
   "cell_type": "code",
   "execution_count": 3,
   "id": "21aa7b5e",
   "metadata": {},
   "outputs": [],
   "source": [
    "l2 = (a*2 for a in range(10))"
   ]
  },
  {
   "cell_type": "code",
   "execution_count": 5,
   "id": "064e6d35",
   "metadata": {},
   "outputs": [
    {
     "data": {
      "text/plain": [
       "<generator object <genexpr> at 0x000002AEC8A286D0>"
      ]
     },
     "execution_count": 5,
     "metadata": {},
     "output_type": "execute_result"
    }
   ],
   "source": [
    "l2"
   ]
  },
  {
   "cell_type": "code",
   "execution_count": 7,
   "id": "b470e1e1",
   "metadata": {},
   "outputs": [
    {
     "data": {
      "text/plain": [
       "0"
      ]
     },
     "execution_count": 7,
     "metadata": {},
     "output_type": "execute_result"
    }
   ],
   "source": [
    "l2.__next__()"
   ]
  },
  {
   "cell_type": "code",
   "execution_count": 8,
   "id": "bc3e9b3b",
   "metadata": {},
   "outputs": [
    {
     "data": {
      "text/plain": [
       "2"
      ]
     },
     "execution_count": 8,
     "metadata": {},
     "output_type": "execute_result"
    }
   ],
   "source": [
    "l2.__next__()"
   ]
  },
  {
   "cell_type": "markdown",
   "id": "561b0ba0",
   "metadata": {},
   "source": [
    "What is the relationship between generators and iterators?"
   ]
  },
  {
   "cell_type": "raw",
   "id": "2e2debb4",
   "metadata": {},
   "source": [
    "Iterable are anything that has __iter__ method associated with it. When we call the __ite__ method of an interable it returns an iterator. Iterator is something that as __next__ method associated with it. Next method keeps the track of data associated with the object. When we call the next method it shift the pointer to next data and returns the same.\n",
    "\n",
    "Generator however is associated with a function that that has \"yield\" keyword instead of return keyword. The speciality of this is that it can highly optimise the memory. It do not do the entire caluclation that the function is about to do all at once. Instead when we call the function it returns a generator object. When we call the __next__ method associated with the generator object it returns what it require to yield one by one. "
   ]
  },
  {
   "cell_type": "code",
   "execution_count": 9,
   "id": "2caaf0fd",
   "metadata": {},
   "outputs": [],
   "source": [
    "def gen(a):\n",
    "    for i in range(a):\n",
    "        yield i ** 2"
   ]
  },
  {
   "cell_type": "code",
   "execution_count": 10,
   "id": "ca627c41",
   "metadata": {},
   "outputs": [],
   "source": [
    "gen_object = gen(10)"
   ]
  },
  {
   "cell_type": "code",
   "execution_count": 11,
   "id": "86995d33",
   "metadata": {},
   "outputs": [
    {
     "data": {
      "text/plain": [
       "<generator object gen at 0x000002AECA4C7350>"
      ]
     },
     "execution_count": 11,
     "metadata": {},
     "output_type": "execute_result"
    }
   ],
   "source": [
    "gen_object"
   ]
  },
  {
   "cell_type": "code",
   "execution_count": 12,
   "id": "4861e348",
   "metadata": {},
   "outputs": [
    {
     "data": {
      "text/plain": [
       "0"
      ]
     },
     "execution_count": 12,
     "metadata": {},
     "output_type": "execute_result"
    }
   ],
   "source": [
    "gen_object.__next__()"
   ]
  },
  {
   "cell_type": "code",
   "execution_count": 13,
   "id": "aa7ce39f",
   "metadata": {},
   "outputs": [
    {
     "data": {
      "text/plain": [
       "1"
      ]
     },
     "execution_count": 13,
     "metadata": {},
     "output_type": "execute_result"
    }
   ],
   "source": [
    "gen_object.__next__()"
   ]
  },
  {
   "cell_type": "code",
   "execution_count": 14,
   "id": "c3db41bb",
   "metadata": {},
   "outputs": [
    {
     "data": {
      "text/plain": [
       "4"
      ]
     },
     "execution_count": 14,
     "metadata": {},
     "output_type": "execute_result"
    }
   ],
   "source": [
    "gen_object.__next__()"
   ]
  },
  {
   "cell_type": "markdown",
   "id": "8402bca2",
   "metadata": {},
   "source": [
    "What are the signs that a function is a generator function?"
   ]
  },
  {
   "cell_type": "raw",
   "id": "ae7d7caf",
   "metadata": {},
   "source": [
    "Signs that the function is a generator function is as follows:\n",
    "1. It has yield keyword inside it's body\n",
    "2. It does not have a return keyword.\n",
    "4. Yield keyword is in front of each output that the genertor generates"
   ]
  },
  {
   "cell_type": "markdown",
   "id": "a2f61f53",
   "metadata": {},
   "source": [
    "What is the purpose of a yield statement?"
   ]
  },
  {
   "cell_type": "raw",
   "id": "eef7f6e5",
   "metadata": {},
   "source": [
    "The basic purpose of yield keyword is that, whenever python encounters yield keyword inside the function body, the value associated with the yield keyword is treated as the next value that the generator object needs to generate."
   ]
  },
  {
   "cell_type": "markdown",
   "id": "e966ad00",
   "metadata": {},
   "source": [
    "What is the relationship between map calls and list comprehensions? Make a comparison and\n",
    "contrast between the two."
   ]
  },
  {
   "cell_type": "raw",
   "id": "ef6a9d54",
   "metadata": {},
   "source": [
    "Map Calls and List Comprehension both involves iterating over a sequence\n",
    "\n",
    "There are syntanctical difference between the two\n",
    "Map: map(functin, iterable)\n",
    "List Comprehension: [expression for element in iterable]\n",
    "\n",
    "Map function returns a map object which needs to be converted into list for further computation. However List comprehension directly returns the List."
   ]
  },
  {
   "cell_type": "code",
   "execution_count": 16,
   "id": "4ecb0c86",
   "metadata": {},
   "outputs": [
    {
     "data": {
      "text/plain": [
       "['PL', 'yL', 'hL', 'tL', 'oL', 'nL']"
      ]
     },
     "execution_count": 16,
     "metadata": {},
     "output_type": "execute_result"
    }
   ],
   "source": [
    "def fun(element):\n",
    "    return element + \"L\"\n",
    "\n",
    "list(map(fun, \"Pyhton\"))"
   ]
  },
  {
   "cell_type": "code",
   "execution_count": 17,
   "id": "38df93a2",
   "metadata": {},
   "outputs": [
    {
     "data": {
      "text/plain": [
       "['PL', 'yL', 'tL', 'hL', 'oL', 'nL']"
      ]
     },
     "execution_count": 17,
     "metadata": {},
     "output_type": "execute_result"
    }
   ],
   "source": [
    "[element + \"L\" for element in \"Python\"]"
   ]
  },
  {
   "cell_type": "code",
   "execution_count": null,
   "id": "6db30cfe",
   "metadata": {},
   "outputs": [],
   "source": []
  }
 ],
 "metadata": {
  "kernelspec": {
   "display_name": "Python 3 (ipykernel)",
   "language": "python",
   "name": "python3"
  },
  "language_info": {
   "codemirror_mode": {
    "name": "ipython",
    "version": 3
   },
   "file_extension": ".py",
   "mimetype": "text/x-python",
   "name": "python",
   "nbconvert_exporter": "python",
   "pygments_lexer": "ipython3",
   "version": "3.9.13"
  }
 },
 "nbformat": 4,
 "nbformat_minor": 5
}

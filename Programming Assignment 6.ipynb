{
 "cells": [
  {
   "cell_type": "raw",
   "id": "39f922af",
   "metadata": {},
   "source": [
    "Write a Python Program to Display Fibonacci Sequence Using Recursion?"
   ]
  },
  {
   "cell_type": "code",
   "execution_count": 18,
   "id": "3b5c982e",
   "metadata": {},
   "outputs": [],
   "source": [
    "def fibonacci(i, f = [1, 1] , n = 2):\n",
    "    f = f.copy() # Prevent the default list from being modified \n",
    "    f.append(f[-1] + f[-2])\n",
    "    n += 1\n",
    "    \n",
    "    if i <= n:\n",
    "        return f\n",
    "    else:\n",
    "        ans = fibonacci(i, f, n)\n",
    "    return ans"
   ]
  },
  {
   "cell_type": "code",
   "execution_count": 20,
   "id": "ac52a56b",
   "metadata": {},
   "outputs": [
    {
     "name": "stdout",
     "output_type": "stream",
     "text": [
      "Enter Number of Elements: 10\n"
     ]
    },
    {
     "data": {
      "text/plain": [
       "[1, 1, 2, 3, 5, 8, 13, 21, 34, 55]"
      ]
     },
     "execution_count": 20,
     "metadata": {},
     "output_type": "execute_result"
    }
   ],
   "source": [
    "fibonacci(int(input(\"Enter Number of Elements: \")))"
   ]
  },
  {
   "cell_type": "raw",
   "id": "b19b2ebb",
   "metadata": {},
   "source": [
    "Write a Python Program to Find Factorial of Number Using Recursion?"
   ]
  },
  {
   "cell_type": "code",
   "execution_count": 2,
   "id": "ad87f5df",
   "metadata": {},
   "outputs": [],
   "source": [
    "def factorial(n, f = 1, i = 1):\n",
    "    f = f*i\n",
    "    \n",
    "    \n",
    "    if i == n:\n",
    "        \n",
    "        return f\n",
    "    else:\n",
    "        i = i+1\n",
    "        ans = factorial(n , f, i)\n",
    "    return ans"
   ]
  },
  {
   "cell_type": "code",
   "execution_count": 4,
   "id": "df7727db",
   "metadata": {},
   "outputs": [
    {
     "data": {
      "text/plain": [
       "120"
      ]
     },
     "execution_count": 4,
     "metadata": {},
     "output_type": "execute_result"
    }
   ],
   "source": [
    "factorial(5)"
   ]
  },
  {
   "cell_type": "raw",
   "id": "1a38a8b7",
   "metadata": {},
   "source": [
    "Write a Python Program to calculate your Body Mass Index?"
   ]
  },
  {
   "cell_type": "code",
   "execution_count": 7,
   "id": "f4cda32e",
   "metadata": {},
   "outputs": [],
   "source": [
    "def calculate_bmi(weight, height):\n",
    "    return weight/(height **2)"
   ]
  },
  {
   "cell_type": "code",
   "execution_count": 9,
   "id": "8e40e0d6",
   "metadata": {},
   "outputs": [
    {
     "name": "stdout",
     "output_type": "stream",
     "text": [
      "Enter Weight in kg: 90\n",
      "Enter height in meters: 5\n",
      "3.6\n"
     ]
    }
   ],
   "source": [
    "w = float(input(\"Enter Weight in kg: \"))\n",
    "h = float(input(\"Enter height in meters: \"))\n",
    "bmi = calculate_bmi(w, h)\n",
    "print(bmi)"
   ]
  },
  {
   "cell_type": "raw",
   "id": "97693458",
   "metadata": {},
   "source": [
    "Write a Python Program to calculate the natural logarithm of any number?"
   ]
  },
  {
   "cell_type": "code",
   "execution_count": 19,
   "id": "580b0873",
   "metadata": {},
   "outputs": [
    {
     "name": "stdout",
     "output_type": "stream",
     "text": [
      "Enter a Number: 45\n",
      "Log of a to the base e is 3.8066624897703196\n"
     ]
    }
   ],
   "source": [
    "import math\n",
    "a = float(input(\"Enter a Number: \"))\n",
    "try:\n",
    "    ln = math.log(a)\n",
    "    print(\"Log of a to the base e is\", ln)\n",
    "except Exception as e:\n",
    "    print(\"Enter a Valid Number\")"
   ]
  },
  {
   "cell_type": "raw",
   "id": "c82dc246",
   "metadata": {},
   "source": [
    "Write a Python Program for cube sum of first n natural numbers?"
   ]
  },
  {
   "cell_type": "code",
   "execution_count": 20,
   "id": "4513fbd7",
   "metadata": {},
   "outputs": [
    {
     "name": "stdout",
     "output_type": "stream",
     "text": [
      "Enter the value of n: 4\n",
      "10\n"
     ]
    }
   ],
   "source": [
    "n = int(input(\"Enter the value of n: \"))\n",
    "print(sum(i for i in range(1, n+1)))"
   ]
  },
  {
   "cell_type": "code",
   "execution_count": null,
   "id": "2543d104",
   "metadata": {},
   "outputs": [],
   "source": []
  }
 ],
 "metadata": {
  "kernelspec": {
   "display_name": "Python 3 (ipykernel)",
   "language": "python",
   "name": "python3"
  },
  "language_info": {
   "codemirror_mode": {
    "name": "ipython",
    "version": 3
   },
   "file_extension": ".py",
   "mimetype": "text/x-python",
   "name": "python",
   "nbconvert_exporter": "python",
   "pygments_lexer": "ipython3",
   "version": "3.9.13"
  }
 },
 "nbformat": 4,
 "nbformat_minor": 5
}

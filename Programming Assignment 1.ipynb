{
 "cells": [
  {
   "cell_type": "raw",
   "id": "bb0809c9",
   "metadata": {},
   "source": [
    "1. Write a Python program to print &quot;Hello Python&quot;?"
   ]
  },
  {
   "cell_type": "code",
   "execution_count": 1,
   "id": "5d4d45b0",
   "metadata": {},
   "outputs": [
    {
     "name": "stdout",
     "output_type": "stream",
     "text": [
      "Hello Python\n"
     ]
    }
   ],
   "source": [
    "print(\"Hello Python\")"
   ]
  },
  {
   "cell_type": "raw",
   "id": "b68a09cb",
   "metadata": {},
   "source": [
    "2. Write a Python program to do arithmetical operations addition and division.?"
   ]
  },
  {
   "cell_type": "code",
   "execution_count": 2,
   "id": "0416e93d",
   "metadata": {},
   "outputs": [
    {
     "name": "stdout",
     "output_type": "stream",
     "text": [
      "6\n",
      "0.5\n"
     ]
    }
   ],
   "source": [
    "a = 2\n",
    "b = 4\n",
    "c = a + b\n",
    "d = a/ b\n",
    "print(c)\n",
    "print(d)"
   ]
  },
  {
   "cell_type": "raw",
   "id": "6be40121",
   "metadata": {},
   "source": [
    "3. Write a Python program to find the area of a triangle?"
   ]
  },
  {
   "cell_type": "code",
   "execution_count": 5,
   "id": "3de461d2",
   "metadata": {},
   "outputs": [
    {
     "name": "stdout",
     "output_type": "stream",
     "text": [
      "Enter the base of the triangle: 2\n",
      "Enter the height of the trangle: 12\n",
      "12.0\n"
     ]
    }
   ],
   "source": [
    "base = int(input(\"Enter the base of the triangle: \"))\n",
    "height = int(input(\"Enter the height of the trangle: \"))\n",
    "area = 0.5 * base * height\n",
    "print(area)"
   ]
  },
  {
   "cell_type": "raw",
   "id": "671ef712",
   "metadata": {},
   "source": [
    "4. Write a Python program to swap two variables?"
   ]
  },
  {
   "cell_type": "code",
   "execution_count": 6,
   "id": "b87bca67",
   "metadata": {},
   "outputs": [
    {
     "name": "stdout",
     "output_type": "stream",
     "text": [
      "Enter the value of a : 2\n",
      "Enter the value of b: 3\n",
      "The value of a 3\n",
      "The value of b 2\n"
     ]
    }
   ],
   "source": [
    "a = int(input(\"Enter the value of a : \"))\n",
    "b = int(input(\"Enter the value of b: \"))\n",
    "c = a\n",
    "a = b\n",
    "b = c\n",
    "print(\"The value of a\", a)\n",
    "print(\"The value of b\", b)"
   ]
  },
  {
   "cell_type": "raw",
   "id": "35d07980",
   "metadata": {},
   "source": [
    "5. Write a Python program to generate a random number?"
   ]
  },
  {
   "cell_type": "code",
   "execution_count": 13,
   "id": "2f723936",
   "metadata": {},
   "outputs": [
    {
     "name": "stdout",
     "output_type": "stream",
     "text": [
      "12\n"
     ]
    }
   ],
   "source": [
    "import random as r\n",
    "r_num = r.randint(1, 100)\n",
    "print(r_num)"
   ]
  },
  {
   "cell_type": "code",
   "execution_count": null,
   "id": "cf2491b6",
   "metadata": {},
   "outputs": [],
   "source": []
  }
 ],
 "metadata": {
  "kernelspec": {
   "display_name": "Python 3 (ipykernel)",
   "language": "python",
   "name": "python3"
  },
  "language_info": {
   "codemirror_mode": {
    "name": "ipython",
    "version": 3
   },
   "file_extension": ".py",
   "mimetype": "text/x-python",
   "name": "python",
   "nbconvert_exporter": "python",
   "pygments_lexer": "ipython3",
   "version": "3.9.13"
  }
 },
 "nbformat": 4,
 "nbformat_minor": 5
}

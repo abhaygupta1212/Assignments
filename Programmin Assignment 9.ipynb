{
 "cells": [
  {
   "cell_type": "markdown",
   "id": "2aabe7b7",
   "metadata": {},
   "source": [
    "Write a Python program to check if the given number is a Disarium Number?"
   ]
  },
  {
   "cell_type": "code",
   "execution_count": 25,
   "id": "6396333d",
   "metadata": {},
   "outputs": [],
   "source": [
    "def is_disarium(num):\n",
    "    s = 0\n",
    "    str_num = str(num)\n",
    "    for i, v in zip(range(1, len(str_num)+1), str_num):\n",
    "        s +=  int(v)**int(i)\n",
    "    return s==num "
   ]
  },
  {
   "cell_type": "code",
   "execution_count": 26,
   "id": "1586b2ce",
   "metadata": {},
   "outputs": [
    {
     "data": {
      "text/plain": [
       "True"
      ]
     },
     "execution_count": 26,
     "metadata": {},
     "output_type": "execute_result"
    }
   ],
   "source": [
    "is_disarium(175)"
   ]
  },
  {
   "cell_type": "markdown",
   "id": "78431351",
   "metadata": {},
   "source": [
    "Write a Python program to print all disarium numbers between 1 to 100?"
   ]
  },
  {
   "cell_type": "code",
   "execution_count": 27,
   "id": "fef617af",
   "metadata": {},
   "outputs": [
    {
     "name": "stdout",
     "output_type": "stream",
     "text": [
      "1\n",
      "2\n",
      "3\n",
      "4\n",
      "5\n",
      "6\n",
      "7\n",
      "8\n",
      "9\n",
      "89\n"
     ]
    }
   ],
   "source": [
    "for i in range(1, 101):\n",
    "    if is_disarium(i):\n",
    "        print(i)"
   ]
  },
  {
   "cell_type": "markdown",
   "id": "3667a520",
   "metadata": {},
   "source": [
    "Write a Python program to check if the given number is Happy Number?"
   ]
  },
  {
   "cell_type": "code",
   "execution_count": 33,
   "id": "4521acea",
   "metadata": {},
   "outputs": [],
   "source": [
    "def square_of_digit(str_num):\n",
    "    square = 0\n",
    "    for i in str_num:\n",
    "        square += int(i)**2\n",
    "    return square\n",
    "\n",
    "def is_happy(num):\n",
    "    str_num = str(num)\n",
    "    while len(str_num) > 1:\n",
    "        str_num = str(square_of_digit(str_num))\n",
    "    return str_num == \"1\""
   ]
  },
  {
   "cell_type": "code",
   "execution_count": 34,
   "id": "316f5564",
   "metadata": {},
   "outputs": [
    {
     "name": "stdout",
     "output_type": "stream",
     "text": [
      "True\n"
     ]
    }
   ],
   "source": [
    "print(is_happy(19))"
   ]
  },
  {
   "cell_type": "markdown",
   "id": "f08d521f",
   "metadata": {},
   "source": [
    "Write a Python program to print all happy numbers between 1 and 100?"
   ]
  },
  {
   "cell_type": "code",
   "execution_count": 35,
   "id": "471b055c",
   "metadata": {},
   "outputs": [
    {
     "name": "stdout",
     "output_type": "stream",
     "text": [
      "1\n",
      "10\n",
      "13\n",
      "19\n",
      "23\n",
      "28\n",
      "31\n",
      "32\n",
      "44\n",
      "49\n",
      "68\n",
      "70\n",
      "79\n",
      "82\n",
      "86\n",
      "91\n",
      "94\n",
      "97\n",
      "100\n"
     ]
    }
   ],
   "source": [
    "for i in range(1, 101):\n",
    "    if is_happy(i):\n",
    "        print(i)"
   ]
  },
  {
   "cell_type": "markdown",
   "id": "53b5b886",
   "metadata": {},
   "source": [
    "Write a Python program to determine whether the given number is a Harshad Number?  \n",
    "(I have assumed number system as base 10)"
   ]
  },
  {
   "cell_type": "code",
   "execution_count": 38,
   "id": "0a9a0658",
   "metadata": {},
   "outputs": [],
   "source": [
    "def is_harshad(num):\n",
    "    s = 0\n",
    "    for i in str(num):\n",
    "        s += int(i)\n",
    "    return num%s == 0"
   ]
  },
  {
   "cell_type": "code",
   "execution_count": 40,
   "id": "e54876f2",
   "metadata": {},
   "outputs": [
    {
     "data": {
      "text/plain": [
       "True"
      ]
     },
     "execution_count": 40,
     "metadata": {},
     "output_type": "execute_result"
    }
   ],
   "source": [
    "is_harshad(18)"
   ]
  },
  {
   "cell_type": "markdown",
   "id": "5c6e6152",
   "metadata": {},
   "source": [
    "Write a Python program to print all pronic numbers between 1 and 100?"
   ]
  },
  {
   "cell_type": "raw",
   "id": "98dd283b",
   "metadata": {},
   "source": [
    "n = m(m+1) where n and m are integeers\n",
    "n = m**2 + m\n",
    "m**2 + m - n = 0\n",
    "\n",
    "m = (-1 +- sqrt(1**2 - 4*1*(-n)))/2*1 #ShridharayCharya"
   ]
  },
  {
   "cell_type": "code",
   "execution_count": 60,
   "id": "6c1ed9f5",
   "metadata": {},
   "outputs": [],
   "source": [
    "def is_pronic(num):\n",
    "    m = (-1 + (1 + 4*num)**(0.5)) / 2\n",
    "    n = (-1 - (1 + 4*num)**(0.5)) / 2\n",
    "    \n",
    "    return int(m) == m or int(n) == n"
   ]
  },
  {
   "cell_type": "code",
   "execution_count": 61,
   "id": "ecc0ec44",
   "metadata": {},
   "outputs": [],
   "source": [
    "def is_pronic2(num):\n",
    "    for i in range(1, int((num/2) +2)):\n",
    "        if i*(i+1) == num:\n",
    "            return True\n",
    "    return False"
   ]
  },
  {
   "cell_type": "code",
   "execution_count": 67,
   "id": "3dba043f",
   "metadata": {},
   "outputs": [
    {
     "name": "stdout",
     "output_type": "stream",
     "text": [
      "2\n",
      "6\n",
      "12\n",
      "20\n",
      "30\n",
      "42\n",
      "56\n",
      "72\n",
      "90\n"
     ]
    }
   ],
   "source": [
    "for i in range(1, 101):\n",
    "    if is_pronic2(i):\n",
    "        print(i)"
   ]
  },
  {
   "cell_type": "code",
   "execution_count": 66,
   "id": "db64f85b",
   "metadata": {},
   "outputs": [
    {
     "name": "stdout",
     "output_type": "stream",
     "text": [
      "2\n",
      "6\n",
      "12\n",
      "20\n",
      "30\n",
      "42\n",
      "56\n",
      "72\n",
      "90\n"
     ]
    }
   ],
   "source": [
    "for i in range(1, 101):\n",
    "    if is_pronic(i):\n",
    "        print(i)"
   ]
  },
  {
   "cell_type": "code",
   "execution_count": null,
   "id": "b564d165",
   "metadata": {},
   "outputs": [],
   "source": []
  }
 ],
 "metadata": {
  "kernelspec": {
   "display_name": "Python 3 (ipykernel)",
   "language": "python",
   "name": "python3"
  },
  "language_info": {
   "codemirror_mode": {
    "name": "ipython",
    "version": 3
   },
   "file_extension": ".py",
   "mimetype": "text/x-python",
   "name": "python",
   "nbconvert_exporter": "python",
   "pygments_lexer": "ipython3",
   "version": "3.9.13"
  }
 },
 "nbformat": 4,
 "nbformat_minor": 5
}

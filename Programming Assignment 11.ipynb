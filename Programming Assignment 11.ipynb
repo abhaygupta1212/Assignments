{
 "cells": [
  {
   "cell_type": "markdown",
   "id": "7df3e8b0",
   "metadata": {},
   "source": [
    "Write a Python program to find words which are greater than given length k?"
   ]
  },
  {
   "cell_type": "code",
   "execution_count": 1,
   "id": "5465972d",
   "metadata": {},
   "outputs": [],
   "source": [
    "def find_words(words, k):\n",
    "    s = 0\n",
    "    for word in words:\n",
    "        if len(word) > k:\n",
    "            s += 1\n",
    "    return s"
   ]
  },
  {
   "cell_type": "code",
   "execution_count": 2,
   "id": "bb03ed71",
   "metadata": {},
   "outputs": [
    {
     "data": {
      "text/plain": [
       "3"
      ]
     },
     "execution_count": 2,
     "metadata": {},
     "output_type": "execute_result"
    }
   ],
   "source": [
    "a = [\"Abhay\", \"Python\", \"Data\", \"Science\", \"Code\", \"Computer\"]\n",
    "k = 5\n",
    "find_words(a, k)"
   ]
  },
  {
   "cell_type": "markdown",
   "id": "c7c886d3",
   "metadata": {},
   "source": [
    "Write a Python program for removing i-th character from a string?\n",
    "(i assumed by taking first position as 1 and not 0)"
   ]
  },
  {
   "cell_type": "code",
   "execution_count": 20,
   "id": "8ed0969e",
   "metadata": {},
   "outputs": [],
   "source": [
    "remove_i = lambda w, i : w[: i-1] + w[i :  ]"
   ]
  },
  {
   "cell_type": "code",
   "execution_count": 19,
   "id": "1b404335",
   "metadata": {},
   "outputs": [
    {
     "data": {
      "text/plain": [
       "'Pyton'"
      ]
     },
     "execution_count": 19,
     "metadata": {},
     "output_type": "execute_result"
    }
   ],
   "source": [
    "remove_i(\"Python\", 4)"
   ]
  },
  {
   "cell_type": "markdown",
   "id": "a938d5f6",
   "metadata": {},
   "source": [
    "Write a Python program to split and join a string?"
   ]
  },
  {
   "cell_type": "code",
   "execution_count": 22,
   "id": "06800604",
   "metadata": {},
   "outputs": [],
   "source": [
    "string = \"Python Java Sql R C++\""
   ]
  },
  {
   "cell_type": "code",
   "execution_count": 26,
   "id": "c45b5ed9",
   "metadata": {},
   "outputs": [
    {
     "data": {
      "text/plain": [
       "['Python', 'Java', 'Sql', 'R', 'C++']"
      ]
     },
     "execution_count": 26,
     "metadata": {},
     "output_type": "execute_result"
    }
   ],
   "source": [
    "split = string.split(\" \")\n",
    "split"
   ]
  },
  {
   "cell_type": "code",
   "execution_count": 29,
   "id": "565fe694",
   "metadata": {},
   "outputs": [
    {
     "data": {
      "text/plain": [
       "'Python, Java, Sql, R, C++'"
      ]
     },
     "execution_count": 29,
     "metadata": {},
     "output_type": "execute_result"
    }
   ],
   "source": [
    "\", \".join(split)"
   ]
  },
  {
   "cell_type": "markdown",
   "id": "e21f9ba9",
   "metadata": {},
   "source": [
    "Write a Python to check if a given string is binary string or not?"
   ]
  },
  {
   "cell_type": "code",
   "execution_count": 37,
   "id": "6d8a5511",
   "metadata": {},
   "outputs": [],
   "source": [
    "def is_binary(word):\n",
    "    for i in word:\n",
    "        if i not in [\"0\", \"1\"]:\n",
    "            return False\n",
    "    return True\n",
    "    "
   ]
  },
  {
   "cell_type": "code",
   "execution_count": 40,
   "id": "61edaef7",
   "metadata": {},
   "outputs": [
    {
     "data": {
      "text/plain": [
       "False"
      ]
     },
     "execution_count": 40,
     "metadata": {},
     "output_type": "execute_result"
    }
   ],
   "source": [
    "is_binary(\"Pyton0101\")"
   ]
  },
  {
   "cell_type": "code",
   "execution_count": 41,
   "id": "1f236f8b",
   "metadata": {},
   "outputs": [
    {
     "data": {
      "text/plain": [
       "True"
      ]
     },
     "execution_count": 41,
     "metadata": {},
     "output_type": "execute_result"
    }
   ],
   "source": [
    "is_binary(\"01010\")"
   ]
  },
  {
   "cell_type": "markdown",
   "id": "de8c0324",
   "metadata": {},
   "source": [
    "Write a Python program to find uncommon words from two Strings?"
   ]
  },
  {
   "cell_type": "code",
   "execution_count": 69,
   "id": "3cd1310e",
   "metadata": {},
   "outputs": [],
   "source": [
    "str1 = \"Mathematics and coding is required in Data Science\"\n",
    "str2 = \"Data Science requires coding\""
   ]
  },
  {
   "cell_type": "code",
   "execution_count": 74,
   "id": "670ff6d4",
   "metadata": {},
   "outputs": [],
   "source": [
    "def find_uncommon(str1, str2):\n",
    "    set1 = set(str1.split())\n",
    "    set2 = set(str2.split())\n",
    "    uncommon = (set1 - set2)\n",
    "    uncommon.update(set2 - set1)\n",
    "    return uncommon"
   ]
  },
  {
   "cell_type": "code",
   "execution_count": 75,
   "id": "ad0ab257",
   "metadata": {},
   "outputs": [
    {
     "data": {
      "text/plain": [
       "{'Mathematics', 'and', 'in', 'is', 'required', 'requires'}"
      ]
     },
     "execution_count": 75,
     "metadata": {},
     "output_type": "execute_result"
    }
   ],
   "source": [
    "find_uncommon(str1, str2)"
   ]
  },
  {
   "cell_type": "markdown",
   "id": "17d46672",
   "metadata": {},
   "source": [
    "Write a Python to find all duplicate characters in string?"
   ]
  },
  {
   "cell_type": "code",
   "execution_count": 99,
   "id": "8f05d5ab",
   "metadata": {},
   "outputs": [],
   "source": [
    "find_duplicate = lambda string : set([char for char in string if string.count(char) > 1])"
   ]
  },
  {
   "cell_type": "code",
   "execution_count": 100,
   "id": "cb58e32f",
   "metadata": {},
   "outputs": [
    {
     "data": {
      "text/plain": [
       "{'a', 'c', 'e'}"
      ]
     },
     "execution_count": 100,
     "metadata": {},
     "output_type": "execute_result"
    }
   ],
   "source": [
    "find_duplicate(\"Data Science\")"
   ]
  },
  {
   "cell_type": "markdown",
   "id": "ca984b67",
   "metadata": {},
   "source": [
    "Write a Python Program to check if a string contains any special character?"
   ]
  },
  {
   "cell_type": "code",
   "execution_count": 111,
   "id": "a59ccc1a",
   "metadata": {},
   "outputs": [],
   "source": [
    "special = lambda string : string.isalnum()"
   ]
  },
  {
   "cell_type": "code",
   "execution_count": 118,
   "id": "3a336ae5",
   "metadata": {},
   "outputs": [],
   "source": [
    "def check_special(sentence):\n",
    "    sentence = sentence.split()\n",
    "    \n",
    "    return False in list(map(special, sentence))"
   ]
  },
  {
   "cell_type": "code",
   "execution_count": 119,
   "id": "0614da26",
   "metadata": {},
   "outputs": [
    {
     "data": {
      "text/plain": [
       "False"
      ]
     },
     "execution_count": 119,
     "metadata": {},
     "output_type": "execute_result"
    }
   ],
   "source": [
    "check_special(\"Python3\")"
   ]
  },
  {
   "cell_type": "code",
   "execution_count": 120,
   "id": "98045c6e",
   "metadata": {},
   "outputs": [
    {
     "data": {
      "text/plain": [
       "False"
      ]
     },
     "execution_count": 120,
     "metadata": {},
     "output_type": "execute_result"
    }
   ],
   "source": [
    "check_special(\"Python3 \")"
   ]
  },
  {
   "cell_type": "code",
   "execution_count": 121,
   "id": "eba42f8c",
   "metadata": {},
   "outputs": [
    {
     "data": {
      "text/plain": [
       "False"
      ]
     },
     "execution_count": 121,
     "metadata": {},
     "output_type": "execute_result"
    }
   ],
   "source": [
    "check_special(\"Abhay Gupta\")"
   ]
  },
  {
   "cell_type": "code",
   "execution_count": 122,
   "id": "17516650",
   "metadata": {},
   "outputs": [
    {
     "data": {
      "text/plain": [
       "True"
      ]
     },
     "execution_count": 122,
     "metadata": {},
     "output_type": "execute_result"
    }
   ],
   "source": [
    "check_special(\"Abhay_Gupta\")"
   ]
  },
  {
   "cell_type": "code",
   "execution_count": null,
   "id": "75fbcc78",
   "metadata": {},
   "outputs": [],
   "source": []
  }
 ],
 "metadata": {
  "kernelspec": {
   "display_name": "Python 3 (ipykernel)",
   "language": "python",
   "name": "python3"
  },
  "language_info": {
   "codemirror_mode": {
    "name": "ipython",
    "version": 3
   },
   "file_extension": ".py",
   "mimetype": "text/x-python",
   "name": "python",
   "nbconvert_exporter": "python",
   "pygments_lexer": "ipython3",
   "version": "3.9.13"
  }
 },
 "nbformat": 4,
 "nbformat_minor": 5
}

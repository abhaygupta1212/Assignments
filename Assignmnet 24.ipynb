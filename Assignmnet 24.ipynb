{
 "cells": [
  {
   "cell_type": "markdown",
   "id": "2306db31",
   "metadata": {},
   "source": [
    "What is the relationship between def statements and lambda expressions ?"
   ]
  },
  {
   "cell_type": "code",
   "execution_count": 18,
   "id": "29272b91",
   "metadata": {},
   "outputs": [],
   "source": [
    "def multiply1(*args):\n",
    "    m = 1\n",
    "    for i in args:\n",
    "        m = m * i \n",
    "    return m"
   ]
  },
  {
   "cell_type": "code",
   "execution_count": 19,
   "id": "0ee2153c",
   "metadata": {},
   "outputs": [
    {
     "data": {
      "text/plain": [
       "12"
      ]
     },
     "execution_count": 19,
     "metadata": {},
     "output_type": "execute_result"
    }
   ],
   "source": [
    "multiply(2, 3, 2)"
   ]
  },
  {
   "cell_type": "code",
   "execution_count": 20,
   "id": "e81e71f8",
   "metadata": {},
   "outputs": [],
   "source": [
    "from functools import reduce"
   ]
  },
  {
   "cell_type": "code",
   "execution_count": 21,
   "id": "ef9e53ee",
   "metadata": {},
   "outputs": [],
   "source": [
    "multiply2 = lambda *args : reduce(lambda a, b : a *b, args)"
   ]
  },
  {
   "cell_type": "code",
   "execution_count": 22,
   "id": "a6d9c2f1",
   "metadata": {},
   "outputs": [
    {
     "data": {
      "text/plain": [
       "18"
      ]
     },
     "execution_count": 22,
     "metadata": {},
     "output_type": "execute_result"
    }
   ],
   "source": [
    "multiply2(1, 2, 9)"
   ]
  },
  {
   "cell_type": "raw",
   "id": "9886fefe",
   "metadata": {},
   "source": [
    "In python def keyword is used to define a regular function, while the lambda keyword is use to define an anonymous function. Anonymous function are like single line function and the can even accept multiple parameter like a normal function."
   ]
  },
  {
   "cell_type": "markdown",
   "id": "442bc038",
   "metadata": {},
   "source": [
    "What is the benefit of lambda?"
   ]
  },
  {
   "cell_type": "raw",
   "id": "b585aefd",
   "metadata": {},
   "source": [
    "Lambda function avoids increasing the length of the code and keeps the code shorted and cleaner. It allows us to create short functions on a single line and thus avoids too uch cluttering of code."
   ]
  },
  {
   "cell_type": "markdown",
   "id": "89dd61b2",
   "metadata": {},
   "source": [
    "Compare and contrast map, filter, and reduce."
   ]
  },
  {
   "cell_type": "raw",
   "id": "378779e7",
   "metadata": {},
   "source": [
    "map:\n",
    "map is used to map each element in a sequence to a function and then returns a map object which can then be cinverted to a sequence. The new sequence will have the values after applying the function on it."
   ]
  },
  {
   "cell_type": "code",
   "execution_count": 23,
   "id": "bdbc75d9",
   "metadata": {},
   "outputs": [
    {
     "data": {
      "text/plain": [
       "[1, 4, 9]"
      ]
     },
     "execution_count": 23,
     "metadata": {},
     "output_type": "execute_result"
    }
   ],
   "source": [
    "list(map(lambda a: a **2, [1, 2, 3]))"
   ]
  },
  {
   "cell_type": "raw",
   "id": "f0fbec89",
   "metadata": {},
   "source": [
    "filter:\n",
    "filter is used to apply a function on each element of a sequence and then it convert the output of the sequence to bool type. If the output is True then the element is included in the new sequence else it is not included. Basically it is used to filter out elements from a sequence."
   ]
  },
  {
   "cell_type": "code",
   "execution_count": 30,
   "id": "36e65d31",
   "metadata": {},
   "outputs": [],
   "source": [
    "def even(a):\n",
    "    return a % 2 == 0"
   ]
  },
  {
   "cell_type": "code",
   "execution_count": 31,
   "id": "3079bbb9",
   "metadata": {},
   "outputs": [
    {
     "data": {
      "text/plain": [
       "[2, 4]"
      ]
     },
     "execution_count": 31,
     "metadata": {},
     "output_type": "execute_result"
    }
   ],
   "source": [
    "list(filter( even, [1, 2, 3, 4, 5]))"
   ]
  },
  {
   "cell_type": "raw",
   "id": "a35b96ad",
   "metadata": {},
   "source": [
    "reduce:\n",
    "reduce is a function which is used to reduce a sequence to a single value. It applies a function that accepts two values to the first pair in sequence and the replaces both the value with a single value that the function returns. It continues the pricess till it gets a single value"
   ]
  },
  {
   "cell_type": "code",
   "execution_count": 33,
   "id": "a765df93",
   "metadata": {},
   "outputs": [
    {
     "data": {
      "text/plain": [
       "4096"
      ]
     },
     "execution_count": 33,
     "metadata": {},
     "output_type": "execute_result"
    }
   ],
   "source": [
    "reduce(lambda a, b : a**b , [ 2 ,3, 4])"
   ]
  },
  {
   "cell_type": "code",
   "execution_count": 34,
   "id": "2e7a2127",
   "metadata": {},
   "outputs": [
    {
     "data": {
      "text/plain": [
       "4096"
      ]
     },
     "execution_count": 34,
     "metadata": {},
     "output_type": "execute_result"
    }
   ],
   "source": [
    "8**4"
   ]
  },
  {
   "cell_type": "markdown",
   "id": "1fd2492b",
   "metadata": {},
   "source": [
    "What are function annotations, and how are they used?"
   ]
  },
  {
   "cell_type": "raw",
   "id": "967923e6",
   "metadata": {},
   "source": [
    "Function Annotation are the annotations used in function defination. It has not meaning to the python but it increases the readability of the code"
   ]
  },
  {
   "cell_type": "code",
   "execution_count": 2,
   "id": "e3271f5f",
   "metadata": {},
   "outputs": [],
   "source": [
    "def test(a:int, b:int) -> float:\n",
    "    return a/b\n",
    "    "
   ]
  },
  {
   "cell_type": "raw",
   "id": "8a96191a",
   "metadata": {},
   "source": [
    "The above code is more readable as it indicates that the parameter a and b are going to accept integers and the return type of the function will be float."
   ]
  },
  {
   "cell_type": "markdown",
   "id": "14d67276",
   "metadata": {},
   "source": [
    "What are recursive functions, and how are they used?"
   ]
  },
  {
   "cell_type": "raw",
   "id": "ea3c4164",
   "metadata": {},
   "source": [
    "A function that calls itself in its body is called a recursive function. An illustartion for the same is as follow"
   ]
  },
  {
   "cell_type": "code",
   "execution_count": 6,
   "id": "4533d43b",
   "metadata": {},
   "outputs": [],
   "source": [
    "def factorial(n, f = 1, i = 1):\n",
    "    f = f * i\n",
    "    i += 1\n",
    "    if i <= n:\n",
    "        ans = factorial(n, f, i)\n",
    "    else:\n",
    "        ans = f\n",
    "    return ans"
   ]
  },
  {
   "cell_type": "code",
   "execution_count": 7,
   "id": "df545dc1",
   "metadata": {},
   "outputs": [
    {
     "data": {
      "text/plain": [
       "120"
      ]
     },
     "execution_count": 7,
     "metadata": {},
     "output_type": "execute_result"
    }
   ],
   "source": [
    "factorial(5)"
   ]
  },
  {
   "cell_type": "code",
   "execution_count": 8,
   "id": "57e7d6bc",
   "metadata": {},
   "outputs": [
    {
     "data": {
      "text/plain": [
       "24"
      ]
     },
     "execution_count": 8,
     "metadata": {},
     "output_type": "execute_result"
    }
   ],
   "source": [
    "factorial(4)"
   ]
  },
  {
   "cell_type": "markdown",
   "id": "49378d51",
   "metadata": {},
   "source": [
    "What are some general design guidelines for coding functions?"
   ]
  },
  {
   "cell_type": "raw",
   "id": "d43e02d7",
   "metadata": {},
   "source": [
    "1. Using Tab for proper indentation\n",
    "2. Using docstrings in function to help the user understand as to what the function is intended to do\n",
    "3. Using proper annotations to make the function more readabler\n"
   ]
  },
  {
   "cell_type": "markdown",
   "id": "d70e04d1",
   "metadata": {},
   "source": [
    "Name three or more ways that functions can communicate results to a caller."
   ]
  },
  {
   "cell_type": "raw",
   "id": "e8de001e",
   "metadata": {},
   "source": [
    "There can be three ways in which the finction can communicate the result to the caller:\n",
    "\n",
    "1. Return Keyword: Using return keyword helps us to return the result of a function to the caller\n",
    "2. Global Keyword: Using gloabal keyword inside a function facilitates the modification of global variable inside the function. However mutable objects such as list get modified inside the function even if defined outside the function without global keyword.\n",
    "3. Pass by object reference: It means that whenever a mutable object such as list is passed to a function and any modification is made to the passed list then the modification get reflected in the original list."
   ]
  },
  {
   "cell_type": "code",
   "execution_count": null,
   "id": "2818fbbd",
   "metadata": {},
   "outputs": [],
   "source": []
  }
 ],
 "metadata": {
  "kernelspec": {
   "display_name": "Python 3 (ipykernel)",
   "language": "python",
   "name": "python3"
  },
  "language_info": {
   "codemirror_mode": {
    "name": "ipython",
    "version": 3
   },
   "file_extension": ".py",
   "mimetype": "text/x-python",
   "name": "python",
   "nbconvert_exporter": "python",
   "pygments_lexer": "ipython3",
   "version": "3.9.13"
  }
 },
 "nbformat": 4,
 "nbformat_minor": 5
}
